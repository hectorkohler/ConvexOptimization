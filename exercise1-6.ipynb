{
 "cells": [
  {
   "cell_type": "markdown",
   "metadata": {},
   "source": [
    "plot the trajectory of gradient descent with the data \n",
    "$$ A = \\begin{bmatrix} 1 & 2\\\\ 2 & 1 \\\\-1 & 0 \\end{bmatrix}   ;   B = \\begin{bmatrix} 1\\\\-1\\\\0 \\end{bmatrix}$$\n",
    "The Python code below implements the gradient descent algorithm above. The stopping criteria used is that the residual rk becomes smaller than the tolerance in the 2-norm."
   ]
  },
  {
   "cell_type": "code",
   "execution_count": 1,
   "metadata": {},
   "outputs": [
    {
     "data": {
      "image/png": "[encoded data removed]",
      "text/plain": [
       "<Figure size 432x288 with 1 Axes>"
      ]
     },
     "metadata": {
      "needs_background": "light"
     },
     "output_type": "display_data"
    }
   ],
   "source": [
    "import numpy as np\n",
    "import numpy.linalg as la\n",
    "import matplotlib.pyplot as plt\n",
    "\n",
    "# The function graddesc performs the gradient descent algorithm with starting value x and tolerance tol\n",
    "def graddesc(A, b, x, tol):\n",
    "    \"\"\"\n",
    "    Input: matrix A, vector b, vector x, tolarance tol\n",
    "    Output: trajectory of points x_0,x_1,... of the gradient descent method\n",
    "    \"\"\"\n",
    "    # Compute the negative gradient r = A^T(b-Ax)\n",
    "    r = np.dot(A.transpose(),b-np.dot(A,x))\n",
    "    # Start with an empty array\n",
    "    xout = [x]\n",
    "    while la.norm(r,2) > tol:\n",
    "        # If the gradient is bigger than the tolerance\n",
    "        Ar = np.dot(A,r)\n",
    "        alpha = np.dot(r,r)/np.dot(Ar,Ar)\n",
    "        x = x + alpha*r\n",
    "        xout.append(x)\n",
    "        r = r-alpha*np.dot(A.transpose(),Ar)\n",
    "    return np.array(xout).transpose()\n",
    "\n",
    "# Define the matrix A and the vector b for the problem we consider, as well as the zero starting point\n",
    "A = np.array([[1,2], [2,1], [-1,0]])\n",
    "b = np.array([10, -1, 0])\n",
    "tol = 1e-4\n",
    "x = np.zeros(2)\n",
    "\n",
    "# Call the gradient descent function with input A and with starting value x=0\n",
    "traj = graddesc(A, b, x, tol)\n",
    "\n",
    "# Plot\n",
    "%matplotlib inline\n",
    "\n",
    "# Define the function we aim to minimize\n",
    "def f(x):\n",
    "    return np.dot(np.dot(A,x)-b,np.dot(A,x)-b)\n",
    "\n",
    "# Determine the values of the function for the first 7 steps\n",
    "# This is used to specify the location of the level sets\n",
    "fvals = []\n",
    "for i in range(7):\n",
    "    fvals.append(f(traj[:,i]))\n",
    "    \n",
    "# Create a mesh grid for plotting the contours / level sets \n",
    "xx = np.linspace(0.1,0.5,100)\n",
    "yy = np.linspace(-0.5,-0.1,100)\n",
    "X, Y = np.meshgrid(xx, yy)\n",
    "Z = np.zeros(X.shape)\n",
    "for i in range(Z.shape[0]):\n",
    "    for j in range(Z.shape[1]):\n",
    "        Z[i,j] = f(np.array([X[i,j], Y[i,j]]))\n",
    "\n",
    "# Get a nice monotone colormap\n",
    "cmap = plt.cm.get_cmap(\"coolwarm\")\n",
    "\n",
    "# Plot the contours and the trajectory\n",
    "plt.contour(X, Y, Z, cmap = cmap, levels = list(reversed(fvals)))\n",
    "plt.plot(traj[0,:], traj[1,:], 'o-k')\n",
    "#plt.axis('off')\n",
    "plt.xlim([0.1,0.5])\n",
    "plt.ylim([-0.5,-0.15])\n",
    "plt.axis('equal')\n",
    "plt.show()"
   ]
  },
  {
   "cell_type": "code",
   "execution_count": null,
   "metadata": {},
   "outputs": [],
   "source": []
  }
 ],
 "metadata": {
  "kernelspec": {
   "display_name": "Python 2",
   "language": "python",
   "name": "python2"
  },
  "language_info": {
   "codemirror_mode": {
    "name": "ipython",
    "version": 2
   },
   "file_extension": ".py",
   "mimetype": "text/x-python",
   "name": "python",
   "nbconvert_exporter": "python",
   "pygments_lexer": "ipython2",
   "version": "2.7.16"
  }
 },
 "nbformat": 4,
 "nbformat_minor": 2
}
